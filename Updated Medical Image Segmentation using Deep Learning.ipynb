{
  "nbformat": 4,
  "nbformat_minor": 0,
  "metadata": {
    "colab": {
      "provenance": [],
      "collapsed_sections": [
        "dgavxdfj9QXG"
      ]
    },
    "kernelspec": {
      "name": "python3",
      "display_name": "Python 3"
    },
    "language_info": {
      "name": "python"
    }
  },
  "cells": [
    {
      "cell_type": "code",
      "source": [
        "import numpy as np\n",
        "import pandas as pd\n",
        "import matplotlib.pyplot as plt\n",
        "import os"
      ],
      "metadata": {
        "id": "pA7UvZyAxZKE"
      },
      "execution_count": null,
      "outputs": []
    },
    {
      "cell_type": "code",
      "source": [
        "import tensorflow as tf\n",
        "from tensorflow import keras\n",
        "from keras.models import *\n",
        "from keras.layers import *\n",
        "from keras.optimizers import *\n",
        "from keras import backend as keras"
      ],
      "metadata": {
        "id": "OYGC2INfaGrn"
      },
      "execution_count": null,
      "outputs": []
    },
    {
      "cell_type": "code",
      "source": [
        "!pip install segmentation_models"
      ],
      "metadata": {
        "colab": {
          "base_uri": "https://localhost:8080/"
        },
        "id": "ICqPWMPiTMH4",
        "outputId": "873e4f36-f41a-4dde-dd78-e802bca96498"
      },
      "execution_count": null,
      "outputs": [
        {
          "output_type": "stream",
          "name": "stdout",
          "text": [
            "Looking in indexes: https://pypi.org/simple, https://us-python.pkg.dev/colab-wheels/public/simple/\n",
            "Collecting segmentation_models\n",
            "  Downloading segmentation_models-1.0.1-py3-none-any.whl (33 kB)\n",
            "Collecting image-classifiers==1.0.0\n",
            "  Downloading image_classifiers-1.0.0-py3-none-any.whl (19 kB)\n",
            "Collecting efficientnet==1.0.0\n",
            "  Downloading efficientnet-1.0.0-py3-none-any.whl (17 kB)\n",
            "Collecting keras-applications<=1.0.8,>=1.0.7\n",
            "  Downloading Keras_Applications-1.0.8-py3-none-any.whl (50 kB)\n",
            "\u001b[2K     \u001b[90m━━━━━━━━━━━━━━━━━━━━━━━━━━━━━━━━━━━━━━━━\u001b[0m \u001b[32m50.7/50.7 KB\u001b[0m \u001b[31m6.6 MB/s\u001b[0m eta \u001b[36m0:00:00\u001b[0m\n",
            "\u001b[?25hRequirement already satisfied: scikit-image in /usr/local/lib/python3.8/dist-packages (from efficientnet==1.0.0->segmentation_models) (0.18.3)\n",
            "Requirement already satisfied: h5py in /usr/local/lib/python3.8/dist-packages (from keras-applications<=1.0.8,>=1.0.7->segmentation_models) (3.1.0)\n",
            "Requirement already satisfied: numpy>=1.9.1 in /usr/local/lib/python3.8/dist-packages (from keras-applications<=1.0.8,>=1.0.7->segmentation_models) (1.21.6)\n",
            "Requirement already satisfied: imageio>=2.3.0 in /usr/local/lib/python3.8/dist-packages (from scikit-image->efficientnet==1.0.0->segmentation_models) (2.9.0)\n",
            "Requirement already satisfied: matplotlib!=3.0.0,>=2.0.0 in /usr/local/lib/python3.8/dist-packages (from scikit-image->efficientnet==1.0.0->segmentation_models) (3.2.2)\n",
            "Requirement already satisfied: PyWavelets>=1.1.1 in /usr/local/lib/python3.8/dist-packages (from scikit-image->efficientnet==1.0.0->segmentation_models) (1.4.1)\n",
            "Requirement already satisfied: scipy>=1.0.1 in /usr/local/lib/python3.8/dist-packages (from scikit-image->efficientnet==1.0.0->segmentation_models) (1.7.3)\n",
            "Requirement already satisfied: networkx>=2.0 in /usr/local/lib/python3.8/dist-packages (from scikit-image->efficientnet==1.0.0->segmentation_models) (2.8.8)\n",
            "Requirement already satisfied: tifffile>=2019.7.26 in /usr/local/lib/python3.8/dist-packages (from scikit-image->efficientnet==1.0.0->segmentation_models) (2022.10.10)\n",
            "Requirement already satisfied: pillow!=7.1.0,!=7.1.1,>=4.3.0 in /usr/local/lib/python3.8/dist-packages (from scikit-image->efficientnet==1.0.0->segmentation_models) (7.1.2)\n",
            "Requirement already satisfied: kiwisolver>=1.0.1 in /usr/local/lib/python3.8/dist-packages (from matplotlib!=3.0.0,>=2.0.0->scikit-image->efficientnet==1.0.0->segmentation_models) (1.4.4)\n",
            "Requirement already satisfied: cycler>=0.10 in /usr/local/lib/python3.8/dist-packages (from matplotlib!=3.0.0,>=2.0.0->scikit-image->efficientnet==1.0.0->segmentation_models) (0.11.0)\n",
            "Requirement already satisfied: pyparsing!=2.0.4,!=2.1.2,!=2.1.6,>=2.0.1 in /usr/local/lib/python3.8/dist-packages (from matplotlib!=3.0.0,>=2.0.0->scikit-image->efficientnet==1.0.0->segmentation_models) (3.0.9)\n",
            "Requirement already satisfied: python-dateutil>=2.1 in /usr/local/lib/python3.8/dist-packages (from matplotlib!=3.0.0,>=2.0.0->scikit-image->efficientnet==1.0.0->segmentation_models) (2.8.2)\n",
            "Requirement already satisfied: six>=1.5 in /usr/local/lib/python3.8/dist-packages (from python-dateutil>=2.1->matplotlib!=3.0.0,>=2.0.0->scikit-image->efficientnet==1.0.0->segmentation_models) (1.15.0)\n",
            "Installing collected packages: keras-applications, image-classifiers, efficientnet, segmentation_models\n",
            "Successfully installed efficientnet-1.0.0 image-classifiers-1.0.0 keras-applications-1.0.8 segmentation_models-1.0.1\n"
          ]
        }
      ]
    },
    {
      "cell_type": "code",
      "source": [
        "import cv2\n",
        "from google.colab.patches import cv2_imshow\n",
        "import random\n",
        "import zipfile"
      ],
      "metadata": {
        "id": "MPqXOf4uacMC"
      },
      "execution_count": null,
      "outputs": []
    },
    {
      "cell_type": "code",
      "source": [
        "from segmentation_models.metrics import iou_score, f1_score\n",
        "from segmentation_models.losses import dice_loss"
      ],
      "metadata": {
        "id": "3817yHoq8fvl",
        "colab": {
          "base_uri": "https://localhost:8080/"
        },
        "outputId": "662c6f33-13ed-4efb-e496-d3697737c3ce"
      },
      "execution_count": null,
      "outputs": [
        {
          "output_type": "stream",
          "name": "stdout",
          "text": [
            "Segmentation Models: using `keras` framework.\n"
          ]
        }
      ]
    },
    {
      "cell_type": "code",
      "source": [
        "from sklearn.model_selection import train_test_split"
      ],
      "metadata": {
        "id": "i35tSbD5bOKF"
      },
      "execution_count": null,
      "outputs": []
    },
    {
      "cell_type": "code",
      "source": [
        "zip_ref = zipfile.ZipFile('/content/drive/MyDrive/200040076_EE610_Assignment4/200040076_EE610_Assignment4.zip', 'r') #Opens the zip file in read mode\n",
        "zip_ref.extractall('/tmp') #Extracts the files into the /tmp folder\n",
        "zip_ref.close()"
      ],
      "metadata": {
        "id": "azRrIUXCxa4Q"
      },
      "execution_count": null,
      "outputs": []
    },
    {
      "cell_type": "markdown",
      "source": [
        "Source for above code : https://towardsdatascience.com/an-informative-colab-guide-to-load-image-datasets-from-github-kaggle-and-local-machine-75cae89ffa1e"
      ],
      "metadata": {
        "id": "Mpx-y2sk_gsi"
      }
    },
    {
      "cell_type": "code",
      "source": [
        "trn_image_name = os.listdir('/tmp/EE610_Assignment4/Train/Tissue-Images')\n",
        "trn_mask_name = os.listdir('/tmp/EE610_Assignment4/Train/Binary-Mask')"
      ],
      "metadata": {
        "id": "iI-VvQ_MxayC"
      },
      "execution_count": null,
      "outputs": []
    },
    {
      "cell_type": "code",
      "source": [
        "tst_image_name = os.listdir('/tmp/EE610_Assignment4/Test/Tissue-Images')\n",
        "tst_mask_name = os.listdir('/tmp/EE610_Assignment4/Test/Binary-Mask')"
      ],
      "metadata": {
        "id": "egZLTeJNbj5H"
      },
      "execution_count": null,
      "outputs": []
    },
    {
      "cell_type": "code",
      "source": [
        "trn_image_name.sort()\n",
        "trn_mask_name.sort()"
      ],
      "metadata": {
        "id": "U_5u6Qilxas6"
      },
      "execution_count": null,
      "outputs": []
    },
    {
      "cell_type": "code",
      "source": [
        "tst_image_name.sort()\n",
        "tst_mask_name.sort()"
      ],
      "metadata": {
        "id": "gkKx_ejCcdMl"
      },
      "execution_count": null,
      "outputs": []
    },
    {
      "cell_type": "code",
      "source": [
        "# Preprocessing\n",
        "trn_image = []\n",
        "trn_mask = []\n",
        "tst_image = []\n",
        "tst_mask = []"
      ],
      "metadata": {
        "id": "5mZcms2z3WS6"
      },
      "execution_count": null,
      "outputs": []
    },
    {
      "cell_type": "code",
      "source": [
        "for i in range(len(tst_image_name)):\n",
        "  mask = cv2.imread(f'/content/drive/MyDrive/200040076_EE610_Assignment4/Test/Binary-Mask/{tst_mask_name[i]}')\n",
        "  mask = cv2.resize(mask, (64, 64))\n",
        "  mask = mask/255\n",
        "  tst_mask.append(mask)\n",
        "\n",
        "  image = cv2.imread(f'/content/drive/MyDrive/200040076_EE610_Assignment4/Test/Tissue-Images/{tst_image_name[i]}')\n",
        "  image = cv2.resize(image, (64, 64))\n",
        "  image = image/255\n",
        "  tst_image.append(image)"
      ],
      "metadata": {
        "id": "wLuWEwLFeIfr"
      },
      "execution_count": null,
      "outputs": []
    },
    {
      "cell_type": "code",
      "source": [
        "for i in range(len(trn_image_name)):\n",
        "  mask = cv2.imread(f'/content/drive/MyDrive/200040076_EE610_Assignment4/Train/Binary-Mask/{trn_mask_name[i]}')\n",
        "  mask = cv2.resize(mask, (64, 64))\n",
        "  mask = mask/255\n",
        "  trn_mask.append(mask)\n",
        "\n",
        "  image = cv2.imread(f'/content/drive/MyDrive/200040076_EE610_Assignment4/Train/Tissue-Images/{trn_image_name[i]}')\n",
        "  image = cv2.resize(image, (64, 64))\n",
        "  image = image/255\n",
        "  trn_image.append(image)"
      ],
      "metadata": {
        "id": "bb9evQlqeSp2"
      },
      "execution_count": null,
      "outputs": []
    },
    {
      "cell_type": "code",
      "source": [
        "trn_image, val_image, trn_mask, val_mask = train_test_split(trn_image, trn_mask, test_size=0.25)"
      ],
      "metadata": {
        "id": "hHgX31aAaqNo"
      },
      "execution_count": null,
      "outputs": []
    },
    {
      "cell_type": "code",
      "source": [
        "trn_image = tf.convert_to_tensor(trn_image)\n",
        "val_image = tf.convert_to_tensor(val_image)\n",
        "tst_image = tf.convert_to_tensor(tst_image)"
      ],
      "metadata": {
        "id": "Tcrrwp7H3WNT"
      },
      "execution_count": null,
      "outputs": []
    },
    {
      "cell_type": "code",
      "source": [
        "trn_mask = tf.convert_to_tensor(trn_mask)\n",
        "val_mask = tf.convert_to_tensor(val_mask)\n",
        "tst_mask = tf.convert_to_tensor(tst_mask)"
      ],
      "metadata": {
        "id": "ywFVmj_EiHDF"
      },
      "execution_count": null,
      "outputs": []
    },
    {
      "cell_type": "code",
      "source": [
        "trn_mask = tf.image.rgb_to_grayscale(trn_mask)"
      ],
      "metadata": {
        "id": "KARuRJ1M5-6e"
      },
      "execution_count": null,
      "outputs": []
    },
    {
      "cell_type": "code",
      "source": [
        "tst_mask = tf.image.rgb_to_grayscale(tst_mask)\n",
        "val_mask = tf.image.rgb_to_grayscale(val_mask)"
      ],
      "metadata": {
        "id": "jUx2GKgPir9e"
      },
      "execution_count": null,
      "outputs": []
    },
    {
      "cell_type": "code",
      "source": [
        "print(f\"Train_Image_No. 15\")\n",
        "cv2_imshow(trn_image[15].numpy()*255)\n",
        "print(f\"Train_Mask_No. 15\")\n",
        "cv2_imshow(trn_mask[15].numpy()*255)"
      ],
      "metadata": {
        "id": "Zx-npkUz5-1K",
        "colab": {
          "base_uri": "https://localhost:8080/",
          "height": 180
        },
        "outputId": "2aceee23-449f-400a-d2c5-bac92a9e6641"
      },
      "execution_count": null,
      "outputs": [
        {
          "output_type": "stream",
          "name": "stdout",
          "text": [
            "Train_Image_No. 15\n"
          ]
        },
        {
          "output_type": "display_data",
          "data": {
            "text/plain": [
              "<PIL.Image.Image image mode=RGB size=64x64 at 0x7FD082589D30>"
            ],
            "image/png": "[encoded data removed]"
          },
          "metadata": {}
        },
        {
          "output_type": "stream",
          "name": "stdout",
          "text": [
            "Train_Mask_No. 15\n"
          ]
        },
        {
          "output_type": "display_data",
          "data": {
            "text/plain": [
              "<PIL.Image.Image image mode=RGB size=64x64 at 0x7FD082589790>"
            ],
            "image/png": "[encoded data removed]"
          },
          "metadata": {}
        }
      ]
    },
    {
      "cell_type": "markdown",
      "source": [
        "## UNet Model"
      ],
      "metadata": {
        "id": "HZdLYJda9UQ_"
      }
    },
    {
      "cell_type": "code",
      "source": [
        "def down_block(x, filters, kernel_size=(3, 3), padding='same', strides=1):\n",
        "  c = Conv2D(filters, kernel_size, padding=padding, strides=strides, activation='relu' )(x)\n",
        "  c = BatchNormalization()(c)\n",
        "  c = Conv2D(filters, kernel_size, padding=padding, strides=strides, activation='relu')(c)\n",
        "  c = BatchNormalization()(c)\n",
        "  p = MaxPool2D((2, 2), (2, 2))(c)\n",
        "  return c, p\n",
        "\n",
        "def up_block(x, skip, filters, kernel_size=(3, 3), padding='same', strides=1):\n",
        "  us = UpSampling2D((2, 2))(x)\n",
        "  concat = Concatenate()([us, skip])\n",
        "  c = Conv2D(filters, kernel_size, padding=padding, strides=strides, activation='relu')(concat)\n",
        "  c = BatchNormalization()(c)\n",
        "  c = Conv2D(filters, kernel_size, padding=padding, strides=strides, activation='relu')(c)\n",
        "  c = BatchNormalization()(c)\n",
        "  return c\n",
        "\n",
        "def bottleneck(x, filters, kernel_size=(3, 3), padding='same', strides=1):\n",
        "  c = Conv2D(filters, kernel_size, padding=padding, strides=strides, activation='relu')(x)\n",
        "  c = BatchNormalization()(c)\n",
        "  c = Conv2D(filters, kernel_size, padding=padding, strides=strides, activation='relu')(c)\n",
        "  c = BatchNormalization()(c)\n",
        "  return c"
      ],
      "metadata": {
        "id": "g-re7t0gM2We"
      },
      "execution_count": null,
      "outputs": []
    },
    {
      "cell_type": "code",
      "source": [
        "def UNet(image_size=(64, 64, 3)):\n",
        "  f = [16, 32, 64, 128, 256]\n",
        "  inputs = Input(image_size)\n",
        "\n",
        "  p0 = inputs\n",
        "  c1, p1 = down_block(p0, f[0])\n",
        "  c2, p2 = down_block(p1, f[1])\n",
        "  c3, p3 = down_block(p2, f[2])\n",
        "  c4, p4 = down_block(p3, f[3])\n",
        "\n",
        "  bn = bottleneck(p4, f[4])\n",
        "\n",
        "  u1 = up_block(bn, c4, f[3])\n",
        "  u2 = up_block(u1, c3, f[2])\n",
        "  u3 = up_block(u2, c2, f[1])\n",
        "  u4 = up_block(u3, c1, f[0])\n",
        "\n",
        "  outputs = Conv2D(1, (1, 1), padding='same', activation='sigmoid')(u4)\n",
        "  model = Model(inputs, outputs)\n",
        "  return model"
      ],
      "metadata": {
        "id": "_DtUPwXrM2TR"
      },
      "execution_count": null,
      "outputs": []
    },
    {
      "cell_type": "code",
      "source": [
        "model = UNet(image_size=(64, 64, 3))"
      ],
      "metadata": {
        "id": "AE27YnYYIWtN"
      },
      "execution_count": null,
      "outputs": []
    },
    {
      "cell_type": "code",
      "source": [
        "model.summary()"
      ],
      "metadata": {
        "colab": {
          "base_uri": "https://localhost:8080/"
        },
        "id": "_tG8LdUvl87Y",
        "outputId": "8569ccfe-7011-454d-bbb3-5db26fe537e9"
      },
      "execution_count": null,
      "outputs": [
        {
          "output_type": "stream",
          "name": "stdout",
          "text": [
            "Model: \"model\"\n",
            "__________________________________________________________________________________________________\n",
            " Layer (type)                   Output Shape         Param #     Connected to                     \n",
            "==================================================================================================\n",
            " input_1 (InputLayer)           [(None, 64, 64, 3)]  0           []                               \n",
            "                                                                                                  \n",
            " conv2d (Conv2D)                (None, 64, 64, 16)   448         ['input_1[0][0]']                \n",
            "                                                                                                  \n",
            " batch_normalization (BatchNorm  (None, 64, 64, 16)  64          ['conv2d[0][0]']                 \n",
            " alization)                                                                                       \n",
            "                                                                                                  \n",
            " conv2d_1 (Conv2D)              (None, 64, 64, 16)   2320        ['batch_normalization[0][0]']    \n",
            "                                                                                                  \n",
            " batch_normalization_1 (BatchNo  (None, 64, 64, 16)  64          ['conv2d_1[0][0]']               \n",
            " rmalization)                                                                                     \n",
            "                                                                                                  \n",
            " max_pooling2d (MaxPooling2D)   (None, 32, 32, 16)   0           ['batch_normalization_1[0][0]']  \n",
            "                                                                                                  \n",
            " conv2d_2 (Conv2D)              (None, 32, 32, 32)   4640        ['max_pooling2d[0][0]']          \n",
            "                                                                                                  \n",
            " batch_normalization_2 (BatchNo  (None, 32, 32, 32)  128         ['conv2d_2[0][0]']               \n",
            " rmalization)                                                                                     \n",
            "                                                                                                  \n",
            " conv2d_3 (Conv2D)              (None, 32, 32, 32)   9248        ['batch_normalization_2[0][0]']  \n",
            "                                                                                                  \n",
            " batch_normalization_3 (BatchNo  (None, 32, 32, 32)  128         ['conv2d_3[0][0]']               \n",
            " rmalization)                                                                                     \n",
            "                                                                                                  \n",
            " max_pooling2d_1 (MaxPooling2D)  (None, 16, 16, 32)  0           ['batch_normalization_3[0][0]']  \n",
            "                                                                                                  \n",
            " conv2d_4 (Conv2D)              (None, 16, 16, 64)   18496       ['max_pooling2d_1[0][0]']        \n",
            "                                                                                                  \n",
            " batch_normalization_4 (BatchNo  (None, 16, 16, 64)  256         ['conv2d_4[0][0]']               \n",
            " rmalization)                                                                                     \n",
            "                                                                                                  \n",
            " conv2d_5 (Conv2D)              (None, 16, 16, 64)   36928       ['batch_normalization_4[0][0]']  \n",
            "                                                                                                  \n",
            " batch_normalization_5 (BatchNo  (None, 16, 16, 64)  256         ['conv2d_5[0][0]']               \n",
            " rmalization)                                                                                     \n",
            "                                                                                                  \n",
            " max_pooling2d_2 (MaxPooling2D)  (None, 8, 8, 64)    0           ['batch_normalization_5[0][0]']  \n",
            "                                                                                                  \n",
            " conv2d_6 (Conv2D)              (None, 8, 8, 128)    73856       ['max_pooling2d_2[0][0]']        \n",
            "                                                                                                  \n",
            " batch_normalization_6 (BatchNo  (None, 8, 8, 128)   512         ['conv2d_6[0][0]']               \n",
            " rmalization)                                                                                     \n",
            "                                                                                                  \n",
            " conv2d_7 (Conv2D)              (None, 8, 8, 128)    147584      ['batch_normalization_6[0][0]']  \n",
            "                                                                                                  \n",
            " batch_normalization_7 (BatchNo  (None, 8, 8, 128)   512         ['conv2d_7[0][0]']               \n",
            " rmalization)                                                                                     \n",
            "                                                                                                  \n",
            " max_pooling2d_3 (MaxPooling2D)  (None, 4, 4, 128)   0           ['batch_normalization_7[0][0]']  \n",
            "                                                                                                  \n",
            " conv2d_8 (Conv2D)              (None, 4, 4, 256)    295168      ['max_pooling2d_3[0][0]']        \n",
            "                                                                                                  \n",
            " batch_normalization_8 (BatchNo  (None, 4, 4, 256)   1024        ['conv2d_8[0][0]']               \n",
            " rmalization)                                                                                     \n",
            "                                                                                                  \n",
            " conv2d_9 (Conv2D)              (None, 4, 4, 256)    590080      ['batch_normalization_8[0][0]']  \n",
            "                                                                                                  \n",
            " batch_normalization_9 (BatchNo  (None, 4, 4, 256)   1024        ['conv2d_9[0][0]']               \n",
            " rmalization)                                                                                     \n",
            "                                                                                                  \n",
            " up_sampling2d (UpSampling2D)   (None, 8, 8, 256)    0           ['batch_normalization_9[0][0]']  \n",
            "                                                                                                  \n",
            " concatenate (Concatenate)      (None, 8, 8, 384)    0           ['up_sampling2d[0][0]',          \n",
            "                                                                  'batch_normalization_7[0][0]']  \n",
            "                                                                                                  \n",
            " conv2d_10 (Conv2D)             (None, 8, 8, 128)    442496      ['concatenate[0][0]']            \n",
            "                                                                                                  \n",
            " batch_normalization_10 (BatchN  (None, 8, 8, 128)   512         ['conv2d_10[0][0]']              \n",
            " ormalization)                                                                                    \n",
            "                                                                                                  \n",
            " conv2d_11 (Conv2D)             (None, 8, 8, 128)    147584      ['batch_normalization_10[0][0]'] \n",
            "                                                                                                  \n",
            " batch_normalization_11 (BatchN  (None, 8, 8, 128)   512         ['conv2d_11[0][0]']              \n",
            " ormalization)                                                                                    \n",
            "                                                                                                  \n",
            " up_sampling2d_1 (UpSampling2D)  (None, 16, 16, 128)  0          ['batch_normalization_11[0][0]'] \n",
            "                                                                                                  \n",
            " concatenate_1 (Concatenate)    (None, 16, 16, 192)  0           ['up_sampling2d_1[0][0]',        \n",
            "                                                                  'batch_normalization_5[0][0]']  \n",
            "                                                                                                  \n",
            " conv2d_12 (Conv2D)             (None, 16, 16, 64)   110656      ['concatenate_1[0][0]']          \n",
            "                                                                                                  \n",
            " batch_normalization_12 (BatchN  (None, 16, 16, 64)  256         ['conv2d_12[0][0]']              \n",
            " ormalization)                                                                                    \n",
            "                                                                                                  \n",
            " conv2d_13 (Conv2D)             (None, 16, 16, 64)   36928       ['batch_normalization_12[0][0]'] \n",
            "                                                                                                  \n",
            " batch_normalization_13 (BatchN  (None, 16, 16, 64)  256         ['conv2d_13[0][0]']              \n",
            " ormalization)                                                                                    \n",
            "                                                                                                  \n",
            " up_sampling2d_2 (UpSampling2D)  (None, 32, 32, 64)  0           ['batch_normalization_13[0][0]'] \n",
            "                                                                                                  \n",
            " concatenate_2 (Concatenate)    (None, 32, 32, 96)   0           ['up_sampling2d_2[0][0]',        \n",
            "                                                                  'batch_normalization_3[0][0]']  \n",
            "                                                                                                  \n",
            " conv2d_14 (Conv2D)             (None, 32, 32, 32)   27680       ['concatenate_2[0][0]']          \n",
            "                                                                                                  \n",
            " batch_normalization_14 (BatchN  (None, 32, 32, 32)  128         ['conv2d_14[0][0]']              \n",
            " ormalization)                                                                                    \n",
            "                                                                                                  \n",
            " conv2d_15 (Conv2D)             (None, 32, 32, 32)   9248        ['batch_normalization_14[0][0]'] \n",
            "                                                                                                  \n",
            " batch_normalization_15 (BatchN  (None, 32, 32, 32)  128         ['conv2d_15[0][0]']              \n",
            " ormalization)                                                                                    \n",
            "                                                                                                  \n",
            " up_sampling2d_3 (UpSampling2D)  (None, 64, 64, 32)  0           ['batch_normalization_15[0][0]'] \n",
            "                                                                                                  \n",
            " concatenate_3 (Concatenate)    (None, 64, 64, 48)   0           ['up_sampling2d_3[0][0]',        \n",
            "                                                                  'batch_normalization_1[0][0]']  \n",
            "                                                                                                  \n",
            " conv2d_16 (Conv2D)             (None, 64, 64, 16)   6928        ['concatenate_3[0][0]']          \n",
            "                                                                                                  \n",
            " batch_normalization_16 (BatchN  (None, 64, 64, 16)  64          ['conv2d_16[0][0]']              \n",
            " ormalization)                                                                                    \n",
            "                                                                                                  \n",
            " conv2d_17 (Conv2D)             (None, 64, 64, 16)   2320        ['batch_normalization_16[0][0]'] \n",
            "                                                                                                  \n",
            " batch_normalization_17 (BatchN  (None, 64, 64, 16)  64          ['conv2d_17[0][0]']              \n",
            " ormalization)                                                                                    \n",
            "                                                                                                  \n",
            " conv2d_18 (Conv2D)             (None, 64, 64, 1)    17          ['batch_normalization_17[0][0]'] \n",
            "                                                                                                  \n",
            "==================================================================================================\n",
            "Total params: 1,968,513\n",
            "Trainable params: 1,965,569\n",
            "Non-trainable params: 2,944\n",
            "__________________________________________________________________________________________________\n"
          ]
        }
      ]
    },
    {
      "cell_type": "code",
      "source": [
        "model.compile(optimizer = Adagrad(learning_rate = 0.1), loss = dice_loss, metrics = [f1_score])"
      ],
      "metadata": {
        "id": "K8DjwBXKIlFk"
      },
      "execution_count": null,
      "outputs": []
    },
    {
      "cell_type": "code",
      "source": [
        "model_history = model.fit(x=trn_image, y=trn_mask, batch_size=11, epochs=10, validation_data=(val_image, val_mask), verbose=1)"
      ],
      "metadata": {
        "colab": {
          "base_uri": "https://localhost:8080/"
        },
        "id": "5G-mn4MwImb2",
        "outputId": "1606c4a6-4068-463a-fa61-cd2cef2ab10c"
      },
      "execution_count": null,
      "outputs": [
        {
          "output_type": "stream",
          "name": "stdout",
          "text": [
            "Epoch 1/10\n",
            "3/3 [==============================] - 5s 930ms/step - loss: 0.6182 - f1-score: 0.3818 - val_loss: 0.6936 - val_f1-score: 0.3064\n",
            "Epoch 2/10\n",
            "3/3 [==============================] - 2s 712ms/step - loss: 0.5481 - f1-score: 0.4519 - val_loss: 0.6900 - val_f1-score: 0.3100\n",
            "Epoch 3/10\n",
            "3/3 [==============================] - 2s 731ms/step - loss: 0.5105 - f1-score: 0.4895 - val_loss: 0.6863 - val_f1-score: 0.3137\n",
            "Epoch 4/10\n",
            "3/3 [==============================] - 2s 706ms/step - loss: 0.4833 - f1-score: 0.5167 - val_loss: 0.6903 - val_f1-score: 0.3097\n",
            "Epoch 5/10\n",
            "3/3 [==============================] - 2s 732ms/step - loss: 0.4668 - f1-score: 0.5332 - val_loss: 0.6907 - val_f1-score: 0.3093\n",
            "Epoch 6/10\n",
            "3/3 [==============================] - 2s 715ms/step - loss: 0.4505 - f1-score: 0.5495 - val_loss: 0.6944 - val_f1-score: 0.3056\n",
            "Epoch 7/10\n",
            "3/3 [==============================] - 2s 721ms/step - loss: 0.4359 - f1-score: 0.5641 - val_loss: 0.7061 - val_f1-score: 0.2939\n",
            "Epoch 8/10\n",
            "3/3 [==============================] - 2s 711ms/step - loss: 0.4222 - f1-score: 0.5778 - val_loss: 0.7084 - val_f1-score: 0.2916\n",
            "Epoch 9/10\n",
            "3/3 [==============================] - 2s 720ms/step - loss: 0.4119 - f1-score: 0.5881 - val_loss: 0.7226 - val_f1-score: 0.2774\n",
            "Epoch 10/10\n",
            "3/3 [==============================] - 2s 737ms/step - loss: 0.3961 - f1-score: 0.6039 - val_loss: 0.7359 - val_f1-score: 0.2641\n"
          ]
        }
      ]
    },
    {
      "cell_type": "code",
      "source": [
        "x = np.arange(1, 11)\n",
        "plt.plot(x, model_history.history['loss'])\n",
        "plt.plot(x, model_history.history['val_loss'])\n",
        "plt.legend(['Training', 'Validation'])\n",
        "plt.xlabel('Epoch')\n",
        "plt.ylabel('Loss')\n",
        "plt.show()"
      ],
      "metadata": {
        "colab": {
          "base_uri": "https://localhost:8080/",
          "height": 282
        },
        "id": "gyIuFo5N_5k-",
        "outputId": "0e447bea-ee1e-4bb9-fc66-635fc2fbf288"
      },
      "execution_count": null,
      "outputs": [
        {
          "output_type": "display_data",
          "data": {
            "text/plain": [
              "<Figure size 432x288 with 1 Axes>"
            ],
            "image/png": "[encoded data removed]"
          },
          "metadata": {
            "needs_background": "light"
          }
        }
      ]
    },
    {
      "cell_type": "code",
      "source": [
        "plt.plot(x, model_history.history['f1-score'])\n",
        "plt.plot(x, model_history.history['val_f1-score'])\n",
        "plt.legend(['Training', 'Validation'])\n",
        "plt.xlabel('Epoch')\n",
        "plt.ylabel('F1 Score')\n",
        "plt.show()"
      ],
      "metadata": {
        "colab": {
          "base_uri": "https://localhost:8080/",
          "height": 279
        },
        "id": "nWDrYbo8m61I",
        "outputId": "c73c83e7-21e9-456b-a474-3f62141c1dc0"
      },
      "execution_count": null,
      "outputs": [
        {
          "output_type": "display_data",
          "data": {
            "text/plain": [
              "<Figure size 432x288 with 1 Axes>"
            ],
            "image/png": "[encoded data removed]"
          },
          "metadata": {
            "needs_background": "light"
          }
        }
      ]
    },
    {
      "cell_type": "code",
      "source": [
        "pred_tst = model.predict(tst_image)\n",
        "pred_thres =pred_tst.copy()"
      ],
      "metadata": {
        "colab": {
          "base_uri": "https://localhost:8080/"
        },
        "id": "5PfVRhMfPaVj",
        "outputId": "8a9dd6fc-4d13-4762-b9a9-43d2764fa0e6"
      },
      "execution_count": null,
      "outputs": [
        {
          "output_type": "stream",
          "name": "stdout",
          "text": [
            "1/1 [==============================] - 0s 166ms/step\n"
          ]
        }
      ]
    },
    {
      "cell_type": "code",
      "source": [
        "pred_thres[pred_tst>0.25]=1\n",
        "pred_thres[pred_tst<0.25]=0"
      ],
      "metadata": {
        "id": "vWAGKc6tnwRu"
      },
      "execution_count": null,
      "outputs": []
    },
    {
      "cell_type": "code",
      "source": [
        "tst_mask=np.float32(tst_mask)"
      ],
      "metadata": {
        "id": "9LDnfwLGoFzf"
      },
      "execution_count": null,
      "outputs": []
    },
    {
      "cell_type": "code",
      "source": [
        "print(f'F1_Score_on_test_data : {f1_score(tst_mask, pred_thres)}')"
      ],
      "metadata": {
        "colab": {
          "base_uri": "https://localhost:8080/"
        },
        "id": "K6436g5ALEpk",
        "outputId": "236c6a33-b6b5-4d95-bd15-ddebe09774b8"
      },
      "execution_count": null,
      "outputs": [
        {
          "output_type": "stream",
          "name": "stdout",
          "text": [
            "F1_Score_on_test_data : 0.6353851556777954\n"
          ]
        }
      ]
    },
    {
      "cell_type": "code",
      "source": [
        "n = random.randrange(0, 13)\n",
        "print(n)\n",
        "print(\"Test Image\")\n",
        "cv2_imshow(tst_image[n].numpy()*255)\n",
        "print(\"Actual Mask\")\n",
        "cv2_imshow(tst_mask[n]*255)\n",
        "print(\"Predicted Mask\")\n",
        "cv2_imshow(pred_thres[n]*255)"
      ],
      "metadata": {
        "colab": {
          "base_uri": "https://localhost:8080/",
          "height": 278
        },
        "id": "1qVy32bKPaQV",
        "outputId": "91a91df8-7109-46e6-8146-715873078a5f"
      },
      "execution_count": null,
      "outputs": [
        {
          "output_type": "stream",
          "name": "stdout",
          "text": [
            "6\n",
            "Test Image\n"
          ]
        },
        {
          "output_type": "display_data",
          "data": {
            "text/plain": [
              "<PIL.Image.Image image mode=RGB size=64x64 at 0x7FD07A25BDF0>"
            ],
            "image/png": "[encoded data removed]"
          },
          "metadata": {}
        },
        {
          "output_type": "stream",
          "name": "stdout",
          "text": [
            "Actual Mask\n"
          ]
        },
        {
          "output_type": "display_data",
          "data": {
            "text/plain": [
              "<PIL.Image.Image image mode=RGB size=64x64 at 0x7FD079A5D190>"
            ],
            "image/png": "[encoded data removed]"
          },
          "metadata": {}
        },
        {
          "output_type": "stream",
          "name": "stdout",
          "text": [
            "Predicted Mask\n"
          ]
        },
        {
          "output_type": "display_data",
          "data": {
            "text/plain": [
              "<PIL.Image.Image image mode=RGB size=64x64 at 0x7FD07A25BDF0>"
            ],
            "image/png": "[encoded data removed]"
          },
          "metadata": {}
        }
      ]
    }
  ]
}